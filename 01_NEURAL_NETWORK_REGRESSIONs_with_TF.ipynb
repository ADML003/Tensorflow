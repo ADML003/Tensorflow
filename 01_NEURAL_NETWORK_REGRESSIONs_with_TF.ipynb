{
  "nbformat": 4,
  "nbformat_minor": 0,
  "metadata": {
    "colab": {
      "provenance": [],
      "authorship_tag": "ABX9TyOzgBrXpW0/Z46XKsRjaDIk",
      "include_colab_link": true
    },
    "kernelspec": {
      "name": "python3",
      "display_name": "Python 3"
    },
    "language_info": {
      "name": "python"
    }
  },
  "cells": [
    {
      "cell_type": "markdown",
      "metadata": {
        "id": "view-in-github",
        "colab_type": "text"
      },
      "source": [
        "<a href=\"https://colab.research.google.com/github/ADML003/Tensorflow/blob/main/01_NEURAL_NETWORK_REGRESSIONs_with_TF.ipynb\" target=\"_parent\"><img src=\"https://colab.research.google.com/assets/colab-badge.svg\" alt=\"Open In Colab\"/></a>"
      ]
    },
    {
      "cell_type": "markdown",
      "source": [
        "#Neural Network Regression with Tensorflow"
      ],
      "metadata": {
        "id": "EaQqbJbS-f0-"
      }
    },
    {
      "cell_type": "markdown",
      "source": [
        "how much and how many kind of problems"
      ],
      "metadata": {
        "id": "QIAxFoY7HbcI"
      }
    },
    {
      "cell_type": "code",
      "source": [
        "bhjbhj"
      ],
      "metadata": {
        "id": "niOT7EtwIRb-"
      },
      "execution_count": null,
      "outputs": []
    }
  ]
}